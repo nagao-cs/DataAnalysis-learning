{
  "nbformat": 4,
  "nbformat_minor": 0,
  "metadata": {
    "colab": {
      "provenance": [],
      "authorship_tag": "ABX9TyN+9Cri5+zGDTrnGJSbein7",
      "include_colab_link": true
    },
    "kernelspec": {
      "name": "python3",
      "display_name": "Python 3"
    },
    "language_info": {
      "name": "python"
    }
  },
  "cells": [
    {
      "cell_type": "markdown",
      "metadata": {
        "id": "view-in-github",
        "colab_type": "text"
      },
      "source": [
        "<a href=\"https://colab.research.google.com/github/nagao-cs/DataAnalysis-learning/blob/main/Numpy_Learnnig.ipynb\" target=\"_parent\"><img src=\"https://colab.research.google.com/assets/colab-badge.svg\" alt=\"Open In Colab\"/></a>"
      ]
    },
    {
      "cell_type": "code",
      "execution_count": 1,
      "metadata": {
        "id": "Q17h44ex5hLh"
      },
      "outputs": [],
      "source": [
        "import numpy as np"
      ]
    },
    {
      "cell_type": "code",
      "source": [
        "a = np.array([1, 2, 3])\n",
        "print(a)"
      ],
      "metadata": {
        "colab": {
          "base_uri": "https://localhost:8080/"
        },
        "id": "3Frei3_yLG9W",
        "outputId": "190fc04a-5a06-4518-ffd6-dd901ed733c0"
      },
      "execution_count": 2,
      "outputs": [
        {
          "output_type": "stream",
          "name": "stdout",
          "text": [
            "[1 2 3]\n"
          ]
        }
      ]
    },
    {
      "cell_type": "code",
      "source": [
        "print(a.shape)\n",
        "print(a.ndim)\n",
        "print(a.size)"
      ],
      "metadata": {
        "colab": {
          "base_uri": "https://localhost:8080/"
        },
        "id": "cWIis5njLUsg",
        "outputId": "c641c298-a624-47af-a847-2f4669df67e9"
      },
      "execution_count": 3,
      "outputs": [
        {
          "output_type": "stream",
          "name": "stdout",
          "text": [
            "(3,)\n",
            "1\n",
            "3\n"
          ]
        }
      ]
    },
    {
      "cell_type": "code",
      "source": [
        "b = np.array([[1, 2, 3], [4, 5, 6], [7, 8, 9]])\n",
        "print(b)"
      ],
      "metadata": {
        "colab": {
          "base_uri": "https://localhost:8080/"
        },
        "id": "j7PlLfrRLeMf",
        "outputId": "0aec5e59-0f16-439f-f4fa-3bd993ef2f20"
      },
      "execution_count": 4,
      "outputs": [
        {
          "output_type": "stream",
          "name": "stdout",
          "text": [
            "[[1 2 3]\n",
            " [4 5 6]\n",
            " [7 8 9]]\n"
          ]
        }
      ]
    },
    {
      "cell_type": "code",
      "source": [
        "print(b.shape)\n",
        "print(b.ndim)\n",
        "print(b.size)"
      ],
      "metadata": {
        "colab": {
          "base_uri": "https://localhost:8080/"
        },
        "id": "tk-u4QzRL1C0",
        "outputId": "df78d0d3-58c3-4cb6-8ef7-80c909249efc"
      },
      "execution_count": 5,
      "outputs": [
        {
          "output_type": "stream",
          "name": "stdout",
          "text": [
            "(3, 3)\n",
            "2\n",
            "9\n"
          ]
        }
      ]
    },
    {
      "cell_type": "code",
      "source": [
        "a = np.zeros((3, 3), dtype=int)\n",
        "print(a)"
      ],
      "metadata": {
        "colab": {
          "base_uri": "https://localhost:8080/"
        },
        "id": "At1TrrkGL3_P",
        "outputId": "19a5061f-16a1-4e93-e0d7-fb4dd1be52a8"
      },
      "execution_count": 6,
      "outputs": [
        {
          "output_type": "stream",
          "name": "stdout",
          "text": [
            "[[0 0 0]\n",
            " [0 0 0]\n",
            " [0 0 0]]\n"
          ]
        }
      ]
    },
    {
      "cell_type": "code",
      "source": [
        "b = np.ones((2,3))\n",
        "print(b)"
      ],
      "metadata": {
        "colab": {
          "base_uri": "https://localhost:8080/"
        },
        "id": "ru4K1ka9MUD6",
        "outputId": "cd20610b-cebb-4370-f973-7bf9f5c4195b"
      },
      "execution_count": 7,
      "outputs": [
        {
          "output_type": "stream",
          "name": "stdout",
          "text": [
            "[[1. 1. 1.]\n",
            " [1. 1. 1.]]\n"
          ]
        }
      ]
    },
    {
      "cell_type": "code",
      "source": [
        "c = np.full((3, 3), 9)\n",
        "print(c)"
      ],
      "metadata": {
        "colab": {
          "base_uri": "https://localhost:8080/"
        },
        "id": "Rcduc65cMbN2",
        "outputId": "03b35ed2-7389-4923-af58-6ba43fa4cfe3"
      },
      "execution_count": 8,
      "outputs": [
        {
          "output_type": "stream",
          "name": "stdout",
          "text": [
            "[[9 9 9]\n",
            " [9 9 9]\n",
            " [9 9 9]]\n"
          ]
        }
      ]
    },
    {
      "cell_type": "code",
      "source": [
        "d = np.eye(5)\n",
        "print(d)"
      ],
      "metadata": {
        "colab": {
          "base_uri": "https://localhost:8080/"
        },
        "id": "KlZdVyb6MmoS",
        "outputId": "537c2aeb-007f-4c0c-f1e6-4b22c8f6d6c0"
      },
      "execution_count": 9,
      "outputs": [
        {
          "output_type": "stream",
          "name": "stdout",
          "text": [
            "[[1. 0. 0. 0. 0.]\n",
            " [0. 1. 0. 0. 0.]\n",
            " [0. 0. 1. 0. 0.]\n",
            " [0. 0. 0. 1. 0.]\n",
            " [0. 0. 0. 0. 1.]]\n"
          ]
        }
      ]
    },
    {
      "cell_type": "code",
      "source": [
        "e = np.random.random((5, 4))\n",
        "print(e)"
      ],
      "metadata": {
        "colab": {
          "base_uri": "https://localhost:8080/"
        },
        "id": "SgaR5c5aMqpJ",
        "outputId": "c42fcc19-fed3-4a72-81b9-fe618810ee92"
      },
      "execution_count": 10,
      "outputs": [
        {
          "output_type": "stream",
          "name": "stdout",
          "text": [
            "[[0.89664887 0.16044694 0.84373377 0.95239289]\n",
            " [0.94683848 0.01415772 0.83589474 0.00167453]\n",
            " [0.94271811 0.97385545 0.45590529 0.81458265]\n",
            " [0.24506854 0.85306969 0.01725881 0.71261504]\n",
            " [0.28018397 0.42052146 0.30116071 0.51332051]]\n"
          ]
        }
      ]
    },
    {
      "cell_type": "code",
      "source": [
        "f = np.arange(3, 10, 2)\n",
        "print(f)"
      ],
      "metadata": {
        "colab": {
          "base_uri": "https://localhost:8080/"
        },
        "id": "SFLHBIs6Mym4",
        "outputId": "e8235645-6eb8-4de4-82b9-66efc550673e"
      },
      "execution_count": 11,
      "outputs": [
        {
          "output_type": "stream",
          "name": "stdout",
          "text": [
            "[3 5 7 9]\n"
          ]
        }
      ]
    },
    {
      "cell_type": "code",
      "source": [
        "val = e[2, 1]\n",
        "print(val)"
      ],
      "metadata": {
        "colab": {
          "base_uri": "https://localhost:8080/"
        },
        "id": "28eJNWQUM4Sb",
        "outputId": "ef3a87cc-2456-422c-8829-9a1a2713c115"
      },
      "execution_count": 12,
      "outputs": [
        {
          "output_type": "stream",
          "name": "stdout",
          "text": [
            "0.9738554455423998\n"
          ]
        }
      ]
    },
    {
      "cell_type": "code",
      "source": [
        "center = d[1:3, 1:4]\n",
        "print(center)\n",
        "print(center.shape)"
      ],
      "metadata": {
        "colab": {
          "base_uri": "https://localhost:8080/"
        },
        "id": "p6vxD0rNNHtH",
        "outputId": "1176d8c0-38d8-4f4d-e84e-94e192165e64"
      },
      "execution_count": 13,
      "outputs": [
        {
          "output_type": "stream",
          "name": "stdout",
          "text": [
            "[[1. 0. 0.]\n",
            " [0. 1. 0.]]\n",
            "(2, 3)\n"
          ]
        }
      ]
    },
    {
      "cell_type": "code",
      "source": [
        "e[1:len(e), 1:len(e[0]-2)] = 0\n",
        "print(e)\n",
        "print(len(e))\n",
        "print(len(e[0]))"
      ],
      "metadata": {
        "colab": {
          "base_uri": "https://localhost:8080/"
        },
        "id": "reCwjomCNSjq",
        "outputId": "6a95ca5e-fcff-4742-8076-6c6d80f95c2f"
      },
      "execution_count": 14,
      "outputs": [
        {
          "output_type": "stream",
          "name": "stdout",
          "text": [
            "[[0.89664887 0.16044694 0.84373377 0.95239289]\n",
            " [0.94683848 0.         0.         0.        ]\n",
            " [0.94271811 0.         0.         0.        ]\n",
            " [0.24506854 0.         0.         0.        ]\n",
            " [0.28018397 0.         0.         0.        ]]\n",
            "5\n",
            "4\n"
          ]
        }
      ]
    },
    {
      "cell_type": "code",
      "source": [
        "a = np.array([[1, 2, 3], [4, 5, 6], [7, 8, 9]])\n",
        "print(a)\n",
        "print(np.array([a[0,1], a[2,1], a[1,0]]))\n",
        "print(a[[0, 2, 1], [1, 1, 0]])"
      ],
      "metadata": {
        "colab": {
          "base_uri": "https://localhost:8080/"
        },
        "id": "eAGAeIkQNq2I",
        "outputId": "8d0df654-c8a1-4a21-a0ab-e71c4fc9c1c5"
      },
      "execution_count": 15,
      "outputs": [
        {
          "output_type": "stream",
          "name": "stdout",
          "text": [
            "[[1 2 3]\n",
            " [4 5 6]\n",
            " [7 8 9]]\n",
            "[2 8 4]\n",
            "[2 8 4]\n"
          ]
        }
      ]
    },
    {
      "cell_type": "code",
      "source": [
        "x = np.arange(3)\n",
        "x.dtype"
      ],
      "metadata": {
        "colab": {
          "base_uri": "https://localhost:8080/"
        },
        "id": "uJggPKvyOftB",
        "outputId": "b5a3da8a-fefd-4f47-fb19-184bce34cdbd"
      },
      "execution_count": 16,
      "outputs": [
        {
          "output_type": "execute_result",
          "data": {
            "text/plain": [
              "dtype('int64')"
            ]
          },
          "metadata": {},
          "execution_count": 16
        }
      ]
    },
    {
      "cell_type": "code",
      "source": [
        "y = np.arange(3.0)\n",
        "print(y)\n",
        "y.dtype"
      ],
      "metadata": {
        "colab": {
          "base_uri": "https://localhost:8080/"
        },
        "id": "nKwG9wG2PIi4",
        "outputId": "16726475-4a1f-43fe-f5af-a783f23c5f9b"
      },
      "execution_count": 17,
      "outputs": [
        {
          "output_type": "stream",
          "name": "stdout",
          "text": [
            "[0. 1. 2.]\n"
          ]
        },
        {
          "output_type": "execute_result",
          "data": {
            "text/plain": [
              "dtype('float64')"
            ]
          },
          "metadata": {},
          "execution_count": 17
        }
      ]
    },
    {
      "cell_type": "code",
      "source": [
        "x = np.arange(1, 5, 1, dtype=np.float32)\n",
        "print(x)\n",
        "x.dtype\n",
        "\n",
        "x = x.astype(np.int64)\n",
        "print(x, x.dtype)"
      ],
      "metadata": {
        "colab": {
          "base_uri": "https://localhost:8080/"
        },
        "id": "ifaYqiR9PPQl",
        "outputId": "7e333957-7df6-4611-face-39ac19c11d32"
      },
      "execution_count": 18,
      "outputs": [
        {
          "output_type": "stream",
          "name": "stdout",
          "text": [
            "[1. 2. 3. 4.]\n",
            "[1 2 3 4] int64\n"
          ]
        }
      ]
    },
    {
      "cell_type": "code",
      "source": [
        "a = np.arange(1,10).reshape(3, 3)\n",
        "b = np.arange(1, 10).reshape(3, 3)\n",
        "c = a + b\n",
        "print(c)\n",
        "c = a - b\n",
        "print(c)\n",
        "c = a * b\n",
        "print(c)\n",
        "c = a / b\n",
        "print(c)"
      ],
      "metadata": {
        "colab": {
          "base_uri": "https://localhost:8080/"
        },
        "id": "bzTIkhFuPsKb",
        "outputId": "2d74a294-d217-402d-84f1-e437782ab6af"
      },
      "execution_count": 19,
      "outputs": [
        {
          "output_type": "stream",
          "name": "stdout",
          "text": [
            "[[ 2  4  6]\n",
            " [ 8 10 12]\n",
            " [14 16 18]]\n",
            "[[0 0 0]\n",
            " [0 0 0]\n",
            " [0 0 0]]\n",
            "[[ 1  4  9]\n",
            " [16 25 36]\n",
            " [49 64 81]]\n",
            "[[1. 1. 1.]\n",
            " [1. 1. 1.]\n",
            " [1. 1. 1.]]\n"
          ]
        }
      ]
    },
    {
      "cell_type": "code",
      "source": [
        "c = np.sqrt(b)\n",
        "print(c)\n",
        "c = np.power(b, 2)\n",
        "print(c == b**2)"
      ],
      "metadata": {
        "colab": {
          "base_uri": "https://localhost:8080/"
        },
        "id": "N8LuBfVQRKpu",
        "outputId": "6c03aa3b-40a2-4e97-cbbf-7992e34175db"
      },
      "execution_count": 20,
      "outputs": [
        {
          "output_type": "stream",
          "name": "stdout",
          "text": [
            "[[1.         1.41421356 1.73205081]\n",
            " [2.         2.23606798 2.44948974]\n",
            " [2.64575131 2.82842712 3.        ]]\n",
            "[[ True  True  True]\n",
            " [ True  True  True]\n",
            " [ True  True  True]]\n"
          ]
        }
      ]
    },
    {
      "cell_type": "code",
      "source": [
        "b = np.arange(1, 4)\n",
        "c = a + b\n",
        "print(c)"
      ],
      "metadata": {
        "colab": {
          "base_uri": "https://localhost:8080/"
        },
        "id": "Y5EVtouORjh6",
        "outputId": "8d1fef92-1b5f-4aaa-cfa0-47dd66b88a75"
      },
      "execution_count": 21,
      "outputs": [
        {
          "output_type": "stream",
          "name": "stdout",
          "text": [
            "[[ 2  4  6]\n",
            " [ 5  7  9]\n",
            " [ 8 10 12]]\n"
          ]
        }
      ]
    },
    {
      "cell_type": "code",
      "source": [
        "a = np.arange(1, 4)\n",
        "print(a)\n",
        "b = np.full((3), 2)\n",
        "print(b)\n",
        "c = a * b\n",
        "print(c)\n",
        "print(a * 2)"
      ],
      "metadata": {
        "colab": {
          "base_uri": "https://localhost:8080/"
        },
        "id": "kCPoGk99S7Lu",
        "outputId": "5279108f-ddbf-4fb3-dfb2-9d95ff724a19"
      },
      "execution_count": 22,
      "outputs": [
        {
          "output_type": "stream",
          "name": "stdout",
          "text": [
            "[1 2 3]\n",
            "[2 2 2]\n",
            "[2 4 6]\n",
            "[2 4 6]\n"
          ]
        }
      ]
    },
    {
      "cell_type": "code",
      "source": [
        "a = np.random.randint(0, 10, (2, 1, 3))\n",
        "b = np.random.randint(0, 10, (3, 1))\n",
        "print(a, a.shape)\n",
        "print(b, b.shape)\n",
        "\n",
        "c = a + b\n",
        "print(c, c.shape)\n"
      ],
      "metadata": {
        "colab": {
          "base_uri": "https://localhost:8080/"
        },
        "id": "1_96yHhYUl9M",
        "outputId": "3e2f0e63-4a19-4008-a65f-2e12836286b9"
      },
      "execution_count": 23,
      "outputs": [
        {
          "output_type": "stream",
          "name": "stdout",
          "text": [
            "[[[4 3 5]]\n",
            "\n",
            " [[3 4 3]]] (2, 1, 3)\n",
            "[[9]\n",
            " [1]\n",
            " [1]] (3, 1)\n",
            "[[[13 12 14]\n",
            "  [ 5  4  6]\n",
            "  [ 5  4  6]]\n",
            "\n",
            " [[12 13 12]\n",
            "  [ 4  5  4]\n",
            "  [ 4  5  4]]] (2, 3, 3)\n"
          ]
        }
      ]
    },
    {
      "cell_type": "code",
      "source": [
        "print(\"Original b:\", b.shape)\n",
        "b_expand = b[np.newaxis, :, :]\n",
        "print(\"Expanded b:\", b_expand.shape)\n",
        "b_expand_2 = b[:, np.newaxis, :]\n",
        "print(\"Expanded b:\", b_expand_2.shape)"
      ],
      "metadata": {
        "colab": {
          "base_uri": "https://localhost:8080/"
        },
        "id": "YpJa35tvVBby",
        "outputId": "86016aed-d18b-4032-9ea8-0a126686036d"
      },
      "execution_count": 24,
      "outputs": [
        {
          "output_type": "stream",
          "name": "stdout",
          "text": [
            "Original b: (3, 1)\n",
            "Expanded b: (1, 3, 1)\n",
            "Expanded b: (3, 1, 1)\n"
          ]
        }
      ]
    },
    {
      "cell_type": "code",
      "source": [
        "a = np.random.randint(0, 10, (5, 5))\n",
        "b = np.arange(1, 6)\n",
        "print(a, b)\n",
        "c = np.empty((5, 5))"
      ],
      "metadata": {
        "colab": {
          "base_uri": "https://localhost:8080/"
        },
        "id": "GxDAJSATVvLk",
        "outputId": "a2266840-bf80-4288-a293-49e97ea25845"
      },
      "execution_count": 25,
      "outputs": [
        {
          "output_type": "stream",
          "name": "stdout",
          "text": [
            "[[2 1 5 4 1]\n",
            " [7 6 3 4 8]\n",
            " [0 8 8 6 2]\n",
            " [5 9 3 9 4]\n",
            " [1 2 9 5 3]] [1 2 3 4 5]\n"
          ]
        }
      ]
    },
    {
      "cell_type": "code",
      "source": [
        "%%timeit\n",
        "for i in range(a.shape[0]):\n",
        "  c[i, :] = a[i, :] + b"
      ],
      "metadata": {
        "id": "rPYF_FjbWI2X"
      },
      "execution_count": null,
      "outputs": []
    },
    {
      "cell_type": "code",
      "source": [
        "print(c)"
      ],
      "metadata": {
        "id": "VLroc3sbWVrm"
      },
      "execution_count": null,
      "outputs": []
    },
    {
      "cell_type": "code",
      "source": [
        "%%timeit\n",
        "c = a + b"
      ],
      "metadata": {
        "id": "acw5666fWdzo"
      },
      "execution_count": null,
      "outputs": []
    },
    {
      "cell_type": "code",
      "source": [
        "a = np.arange(9).reshape(3, 3)\n",
        "b  =np.arange(1, 10).reshape(3, 3)\n",
        "c = np.dot(a, b)\n",
        "print(c)\n",
        "c = a.dot(b)\n",
        "print(c)\n",
        "c = a @ b\n",
        "print(c)"
      ],
      "metadata": {
        "id": "TPyic7XcWobd"
      },
      "execution_count": null,
      "outputs": []
    },
    {
      "cell_type": "code",
      "source": [
        "x = np.random.randint(0, 10, (8, 10))\n",
        "print(x)"
      ],
      "metadata": {
        "id": "Mc60F6LVXAVy"
      },
      "execution_count": null,
      "outputs": []
    },
    {
      "cell_type": "code",
      "source": [
        "print(x.mean())\n",
        "print(x.var())\n",
        "print(x.std())\n",
        "print(x.max())\n",
        "print(x.min())"
      ],
      "metadata": {
        "id": "L2ZfWa8mXVZv"
      },
      "execution_count": null,
      "outputs": []
    },
    {
      "cell_type": "code",
      "source": [
        "print(x.mean(axis=1))"
      ],
      "metadata": {
        "id": "lcqS_VQ0XfmA"
      },
      "execution_count": null,
      "outputs": []
    },
    {
      "cell_type": "code",
      "source": [],
      "metadata": {
        "id": "c5FiyT5gXkVh"
      },
      "execution_count": null,
      "outputs": []
    }
  ]
}